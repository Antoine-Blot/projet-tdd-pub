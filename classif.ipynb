{
 "cells": [
  {
   "cell_type": "markdown",
   "id": "2b5abb89",
   "metadata": {},
   "source": [
    "Algorithme des k plus proches voisins"
   ]
  },
  {
   "cell_type": "code",
   "execution_count": 1,
   "id": "6cf1116c",
   "metadata": {},
   "outputs": [],
   "source": [
    "import pandas as pd\n",
    "from sklearn.model_selection import train_test_split\n",
    "from sklearn.linear_model import LogisticRegression\n",
    "from sklearn.metrics import classification_report, confusion_matrix"
   ]
  },
  {
   "cell_type": "code",
   "execution_count": 2,
   "id": "76cd4ae6",
   "metadata": {},
   "outputs": [],
   "source": [
    "df_matchs = pd.read_csv(\"donnees_football\\\\Match.csv\")\n",
    "df_country = pd.read_csv(\"donnees_football\\\\Country.csv\")\n",
    "df_league = pd.read_csv(\"donnees_football\\\\League.csv\")\n",
    "df_player_att = pd.read_csv(\"donnees_football\\\\Player_Attributes.csv\")\n",
    "df_player = pd.read_csv(\"donnees_football\\\\Player.csv\")\n",
    "df_team_attributes = pd.read_csv(\"donnees_football\\\\Team_Attributes.csv\")\n",
    "df_team = pd.read_csv(\"donnees_football\\\\Team.csv\")"
   ]
  },
  {
   "cell_type": "markdown",
   "id": "120528a9",
   "metadata": {},
   "source": [
    "Ajout de la variable 'issue' du match au df df_matchs"
   ]
  },
  {
   "cell_type": "code",
   "execution_count": null,
   "id": "df42c19c",
   "metadata": {},
   "outputs": [],
   "source": []
  },
  {
   "cell_type": "code",
   "execution_count": 5,
   "id": "a3e71945",
   "metadata": {},
   "outputs": [
    {
     "name": "stdout",
     "output_type": "stream",
     "text": [
      "Matrice de confusion :\n",
      " [[26  0]\n",
      " [ 0 19]]\n",
      "\n",
      "Rapport de classification :\n",
      "               precision    recall  f1-score   support\n",
      "\n",
      "           0       1.00      1.00      1.00        26\n",
      "           1       1.00      1.00      1.00        19\n",
      "\n",
      "    accuracy                           1.00        45\n",
      "   macro avg       1.00      1.00      1.00        45\n",
      "weighted avg       1.00      1.00      1.00        45\n",
      "\n"
     ]
    }
   ],
   "source": [
    "from sklearn.datasets import load_iris\n",
    "from sklearn.linear_model import LogisticRegression\n",
    "from sklearn.model_selection import train_test_split\n",
    "from sklearn.metrics import classification_report, confusion_matrix\n",
    "import pandas as pd\n",
    "\n",
    "# 1. Charger le dataset\n",
    "iris = load_iris()\n",
    "X = iris.data  # Caractéristiques : longueur/largeur pétale et sépale\n",
    "y = (iris.target == 0).astype(int)  # 1 si Setosa, 0 sinon\n",
    "\n",
    "# 2. Diviser le jeu de données\n",
    "X_train, X_test, y_train, y_test = train_test_split(X, y, test_size=0.3, random_state=42)\n",
    "\n",
    "# 3. Créer et entraîner le modèle\n",
    "model = LogisticRegression()\n",
    "model.fit(X_train, y_train)\n",
    "\n",
    "# 4. Prédictions\n",
    "y_pred = model.predict(X_test)\n",
    "\n",
    "# 5. Évaluation\n",
    "print(\"Matrice de confusion :\\n\", confusion_matrix(y_test, y_pred))\n",
    "print(\"\\nRapport de classification :\\n\", classification_report(y_test, y_pred))\n"
   ]
  }
 ],
 "metadata": {
  "kernelspec": {
   "display_name": "Python 3",
   "language": "python",
   "name": "python3"
  },
  "language_info": {
   "codemirror_mode": {
    "name": "ipython",
    "version": 3
   },
   "file_extension": ".py",
   "mimetype": "text/x-python",
   "name": "python",
   "nbconvert_exporter": "python",
   "pygments_lexer": "ipython3",
   "version": "3.13.3"
  }
 },
 "nbformat": 4,
 "nbformat_minor": 5
}
