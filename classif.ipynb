{
 "cells": [
  {
   "cell_type": "markdown",
   "id": "2b5abb89",
   "metadata": {},
   "source": [
    "Algorithme de la Régression Logistique"
   ]
  },
  {
   "cell_type": "code",
   "execution_count": 4,
   "id": "76cd4ae6",
   "metadata": {},
   "outputs": [],
   "source": [
    "import pandas as pd\n",
    "df_matchs = pd.read_csv(\"donnees_football\\\\Match.csv\")\n",
    "df_country = pd.read_csv(\"donnees_football\\\\Country.csv\")\n",
    "df_league = pd.read_csv(\"donnees_football\\\\League.csv\")\n",
    "df_player_att = pd.read_csv(\"donnees_football\\\\Player_Attributes.csv\")\n",
    "df_player = pd.read_csv(\"donnees_football\\\\Player.csv\")\n",
    "df_team_attributes = pd.read_csv(\"donnees_football\\\\Team_Attributes.csv\")\n",
    "df_team = pd.read_csv(\"donnees_football\\\\Team.csv\")"
   ]
  },
  {
   "cell_type": "markdown",
   "id": "120528a9",
   "metadata": {},
   "source": [
    "Première sélection des variables"
   ]
  },
  {
   "cell_type": "code",
   "execution_count": null,
   "id": "df42c19c",
   "metadata": {},
   "outputs": [],
   "source": []
  },
  {
   "cell_type": "markdown",
   "id": "2def843b",
   "metadata": {},
   "source": [
    "Création de variables"
   ]
  },
  {
   "cell_type": "code",
   "execution_count": null,
   "id": "a3e71945",
   "metadata": {},
   "outputs": [],
   "source": []
  },
  {
   "cell_type": "markdown",
   "id": "e8ec6307",
   "metadata": {},
   "source": [
    "Implémentation de la pipeline"
   ]
  },
  {
   "cell_type": "code",
   "execution_count": null,
   "id": "7e0b63e1",
   "metadata": {},
   "outputs": [],
   "source": [
    "from sklearn.pipeline import Pipeline\n",
    "from sklearn.preprocessing import StandardScaler\n",
    "from sklearn.linear_model import LogisticRegression\n",
    "\n",
    "pipeline = Pipeline([\n",
    "    ('scaler', StandardScaler()),\n",
    "    ('classif', LogisticRegression(multi_class='multinomial', penalty='l1', solver='saga', max_iter=5000))\n",
    "])"
   ]
  },
  {
   "cell_type": "markdown",
   "id": "6fd54ebf",
   "metadata": {},
   "source": [
    "Entrainement et optimisation de l'hyperparamètre C"
   ]
  },
  {
   "cell_type": "code",
   "execution_count": null,
   "id": "9ab4e68f",
   "metadata": {},
   "outputs": [],
   "source": []
  },
  {
   "cell_type": "markdown",
   "id": "03be9d4c",
   "metadata": {},
   "source": [
    "Evaluation des performances du modèle avec les métriques"
   ]
  },
  {
   "cell_type": "markdown",
   "id": "f1dbdba2",
   "metadata": {},
   "source": [
    "Seconde sélection, automatique cette fois, des variables avec la pénalité L1"
   ]
  },
  {
   "cell_type": "code",
   "execution_count": null,
   "id": "0fb62d00",
   "metadata": {},
   "outputs": [],
   "source": []
  }
 ],
 "metadata": {
  "kernelspec": {
   "display_name": "Python 3",
   "language": "python",
   "name": "python3"
  },
  "language_info": {
   "codemirror_mode": {
    "name": "ipython",
    "version": 3
   },
   "file_extension": ".py",
   "mimetype": "text/x-python",
   "name": "python",
   "nbconvert_exporter": "python",
   "pygments_lexer": "ipython3",
   "version": "3.13.3"
  }
 },
 "nbformat": 4,
 "nbformat_minor": 5
}
